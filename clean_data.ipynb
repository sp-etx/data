{
 "cells": [
  {
   "cell_type": "markdown",
   "metadata": {},
   "source": [
    "# Setup"
   ]
  },
  {
   "cell_type": "code",
   "execution_count": 1,
   "metadata": {
    "collapsed": false
   },
   "outputs": [],
   "source": [
    "import pandas as pd\n",
    "import pytz\n",
    "\n",
    "SAVE_CSV_SEPARATOR = ';'\n",
    "\n",
    "def save(data, path_base, csv=True, xls=True):\n",
    "    if data.index.tz is None:\n",
    "        raise ValueError('Timezone must be explicit!')\n",
    "    data.index.name = 'Time (UTC)'\n",
    "    data = data.tz_convert(tz=pytz.UTC).tz_localize(tz=None)\n",
    "    if csv:\n",
    "        data.to_csv(path_base + '.csv', sep=SAVE_CSV_SEPARATOR)\n",
    "    if xls:\n",
    "        data.to_excel(path_base + '.xls')\n",
    "    \n",
    "    "
   ]
  },
  {
   "cell_type": "markdown",
   "metadata": {},
   "source": [
    "# Göteborg Energi"
   ]
  },
  {
   "cell_type": "code",
   "execution_count": 2,
   "metadata": {
    "collapsed": false
   },
   "outputs": [],
   "source": [
    "data = pd.read_csv(\n",
    "    r'\\\\sp.se\\Dok\\ET\\FoI\\EU\\FP7\\Step-Up\\WP2\\Energimodell\\GE via CTH\\GE 2010-01-01 - 2014-03-09 (lokal tid).csv',\n",
    "    index_col=0,\n",
    "    sep=';',\n",
    "    encoding='utf-8',\n",
    "    parse_dates=True)\n",
    "\n",
    "# Data is (implicitly) given in wall-clock time, i.e. normal time and daylight saving time mixed.\n",
    "# Sort it out:\n",
    "data = data.tz_localize(tz='Europe/Stockholm', axis='rows', ambiguous='infer')\n",
    "\n",
    "# Shift one hour backwards. Original data states production at end of period.\n",
    "# I want production at start of period, e.g. data at 01:00 is the production 01:00-02:00 in the output of this script.\n",
    "data.shift(-1, freq='H') \n",
    "\n",
    "save(data, 'cleaned/GE 2010-01-01 - 2014-03-09 (UTC)', xls=True, csv=True)"
   ]
  },
  {
   "cell_type": "markdown",
   "metadata": {},
   "source": [
    "# Svenska Kraftnät"
   ]
  },
  {
   "cell_type": "code",
   "execution_count": 3,
   "metadata": {
    "collapsed": false
   },
   "outputs": [],
   "source": [
    "data = pd.read_csv(\n",
    "    r'\\\\sp.se\\Dok\\ET\\FoI\\EU\\FP7\\Step-Up\\WP2\\Energimodell\\Elleverans SKN\\SKN 2001-01-01 - 2014-01-31.csv',\n",
    "    index_col=0,\n",
    "    sep=';',\n",
    "    encoding='utf-8',\n",
    "    parse_dates=True)\n",
    "\n",
    "data = data.tz_localize(tz=pytz.UTC)\n",
    "\n",
    "save(data, 'cleaned/SKN 2001-01-01 - 2014-01-31 (UTC)', xls=False, csv=True)"
   ]
  },
  {
   "cell_type": "markdown",
   "metadata": {},
   "source": [
    "# Elspot"
   ]
  },
  {
   "cell_type": "code",
   "execution_count": 5,
   "metadata": {
    "collapsed": false
   },
   "outputs": [],
   "source": [
    "from pandas.tseries.offsets import DateOffset\n",
    "import re\n",
    "import math\n",
    "\n",
    "# Elspot data has a horrible format.\n",
    "# It is given in local \"wall-clock\" time, i.e. implicit normal/daylight saving time.\n",
    "# Hour 02.00-03.00 is blank in the data file the last Sunday in March.\n",
    "# Hour 02.00-03.00 should be read TWICE the last Sunday in October.\n",
    "# The (price) value should be the same two hours in a row.\n",
    "\n",
    "def read_raw_data(path, year):\n",
    "    data = pd.read_excel(path, skiprows=list(range(5)), index_col=0)\n",
    "    data = data[data.index.year == year]\n",
    "    data.dropna(thresh=24, inplace=True)\n",
    "    assert 365 <= len(data) <= 366\n",
    "    assert all(int(col) == j+1 for j, col in enumerate(data.columns[0:24]))\n",
    "    return data\n",
    "\n",
    "def interpret(raw_data):\n",
    "    d = []\n",
    "    dst_started = dst_ended = False\n",
    "    for i, row in raw_data.iterrows():\n",
    "        if re.match('[Ss][uo]mm[ae]rti(d|me)', str(row.iloc[28])):\n",
    "            assert not dst_started\n",
    "            dst_started = True\n",
    "            assert math.isnan(row.iloc[2])\n",
    "            hours = list(range(2)) + list(range(3,24)) # Skip non-existing hour\n",
    "        elif re.match('[WwVv]interti(d|me)', str(row[28])):\n",
    "            assert not dst_ended\n",
    "            dst_ended = True\n",
    "            hours = list(range(3)) + list(range(2,24)) # Duplicate double hour\n",
    "        else:\n",
    "            hours = list(range(24))\n",
    "\n",
    "        items = row.iloc[hours]        \n",
    "        for hour, value in zip(hours, items):\n",
    "            timestamp = row.name + DateOffset(hours=hour)\n",
    "            d.append((timestamp, value))\n",
    "\n",
    "    index, data = zip(*d)\n",
    "\n",
    "    series = pd.Series(data=data, index=index)\n",
    "\n",
    "    # Data is now implicitly given in wall-clock time, i.e. normal time and daylight saving time mixed.\n",
    "    # Sort it out:\n",
    "    series = series.tz_localize(tz='Europe/Stockholm', axis='rows', ambiguous='infer')\n",
    "    \n",
    "    return pd.DataFrame.from_dict({'Price': series})\n",
    "\n",
    "\n",
    "all_elspot = []\n",
    "years = tuple(range(2000, 2014))\n",
    "for year in years:\n",
    "    d = read_raw_data(\n",
    "        r'\\\\sp.se\\Dok\\ET\\Gemensamt\\Övrigt\\Data Nord Pool FTP\\Elspot\\Elspot_prices\\Sweden\\{}\\stosek{}.xls'.format(year, str(year)[2:]), year)\n",
    "    d = interpret(d)\n",
    "    all_elspot.append(d)\n",
    "    \n",
    "save(\n",
    "    pd.concat(all_elspot),\n",
    "    'cleaned/Elspot Stockholm {} - {} (UTC)'.format(years[0], years[-1]),\n",
    "    xls=False)\n",
    "\n"
   ]
  }
 ],
 "metadata": {
  "kernelspec": {
   "display_name": "Python 3",
   "language": "python",
   "name": "python3"
  },
  "language_info": {
   "codemirror_mode": {
    "name": "ipython",
    "version": 3
   },
   "file_extension": ".py",
   "mimetype": "text/x-python",
   "name": "python",
   "nbconvert_exporter": "python",
   "pygments_lexer": "ipython3",
   "version": "3.4.1"
  }
 },
 "nbformat": 4,
 "nbformat_minor": 0
}
